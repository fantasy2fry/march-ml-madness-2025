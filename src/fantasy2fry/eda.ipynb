{
 "cells": [
  {
   "cell_type": "markdown",
   "source": [
    "## Exploratory Data Analysis"
   ],
   "metadata": {
    "collapsed": false
   },
   "id": "de2886f18a05f757"
  },
  {
   "cell_type": "code",
   "execution_count": 32,
   "id": "initial_id",
   "metadata": {
    "collapsed": true,
    "ExecuteTime": {
     "end_time": "2025-03-05T10:53:56.355930Z",
     "start_time": "2025-03-05T10:53:56.343643Z"
    }
   },
   "outputs": [],
   "source": [
    "import numpy as np\n",
    "import pandas as pd\n",
    "import matplotlib.pyplot as plt\n",
    "import seaborn as sns\n",
    "from supervised.automl import AutoML"
   ]
  },
  {
   "cell_type": "markdown",
   "source": [
    "### DATA SECTION 1"
   ],
   "metadata": {
    "collapsed": false
   },
   "id": "90cf0e7b51321092"
  },
  {
   "cell_type": "code",
   "execution_count": 33,
   "outputs": [],
   "source": [
    "data_section_1_names = [\"MTeams.csv\" , \"WTeams.csv\", \"MSeasons.csv\", \"WSeasons.csv\",\n",
    "                        \"MNCAATourneySeeds.csv\", \"WNCAATourneySeeds.csv\",\n",
    "                        \"MRegularSeasonCompactResults.csv\", \"WRegularSeasonCompactResults.csv\",\n",
    "                        \"MNCAATourneyCompactResults.csv\", \"WNCAATourneyCompactResults.csv\",\n",
    "                        \"SampleSubmissionStage1.csv\"]"
   ],
   "metadata": {
    "collapsed": false,
    "ExecuteTime": {
     "end_time": "2025-03-05T10:53:56.364896Z",
     "start_time": "2025-03-05T10:53:56.347385Z"
    }
   },
   "id": "74027e25ac3b86ed"
  },
  {
   "cell_type": "code",
   "execution_count": 34,
   "outputs": [],
   "source": [
    "folder = \"../../data/\"\n",
    "dfs = [None for i in range(len(data_section_1_names))]\n",
    "for i, name in enumerate(data_section_1_names):\n",
    "    dfs[i] = pd.read_csv(folder + name)"
   ],
   "metadata": {
    "collapsed": false,
    "ExecuteTime": {
     "end_time": "2025-03-05T10:53:56.595833Z",
     "start_time": "2025-03-05T10:53:56.368826Z"
    }
   },
   "id": "f25b4717ae703a15"
  },
  {
   "cell_type": "code",
   "execution_count": 41,
   "outputs": [
    {
     "name": "stdout",
     "output_type": "stream",
     "text": [
      "MTeams.csv 0\n",
      "   Season  TeamID  FirstDayNum  LastDayNum       CoachName\n",
      "0    1985    1102            0         154   reggie_minton\n",
      "1    1985    1103            0         154     bob_huggins\n",
      "2    1985    1104            0         154  wimp_sanderson\n",
      "3    1985    1106            0         154    james_oliver\n",
      "4    1985    1108            0         154   davey_whitney\n",
      "WTeams.csv 1\n",
      "  ConfAbbrev                   Description\n",
      "0      a_sun       Atlantic Sun Conference\n",
      "1      a_ten        Atlantic 10 Conference\n",
      "2        aac  American Athletic Conference\n",
      "3        acc     Atlantic Coast Conference\n",
      "4        aec       America East Conference\n",
      "MSeasons.csv 2\n",
      "   Season  TeamID ConfAbbrev\n",
      "0    1985    1102        wac\n",
      "1    1985    1103        ovc\n",
      "2    1985    1104        sec\n",
      "3    1985    1106       swac\n",
      "4    1985    1108       swac\n",
      "WSeasons.csv 3\n",
      "   Season  TeamID ConfAbbrev\n",
      "0    1998    3102        wac\n",
      "1    1998    3103        mac\n",
      "2    1998    3104        sec\n",
      "3    1998    3106       swac\n",
      "4    1998    3108       swac\n",
      "MNCAATourneySeeds.csv 4\n",
      "   Season ConfAbbrev  DayNum  WTeamID  LTeamID\n",
      "0    2001      a_sun     121     1194     1144\n",
      "1    2001      a_sun     121     1416     1240\n",
      "2    2001      a_sun     122     1209     1194\n",
      "3    2001      a_sun     122     1359     1239\n",
      "4    2001      a_sun     122     1391     1273\n",
      "WNCAATourneySeeds.csv 5\n",
      "   Season ConfAbbrev  DayNum  WTeamID  LTeamID\n",
      "0    2002      a_sun     129     3194     3144\n",
      "1    2002      a_sun     129     3209     3407\n",
      "2    2002      a_sun     129     3273     3125\n",
      "3    2002      a_sun     129     3391     3416\n",
      "4    2002      a_sun     130     3194     3273\n",
      "MRegularSeasonCompactResults.csv 6\n",
      "   Season SecondaryTourney  TeamID\n",
      "0    1985              NIT    1108\n",
      "1    1985              NIT    1133\n",
      "2    1985              NIT    1139\n",
      "3    1985              NIT    1145\n",
      "4    1985              NIT    1151\n",
      "WRegularSeasonCompactResults.csv 7\n",
      "   Season SecondaryTourney  TeamID\n",
      "0    2013              WBI    3125\n",
      "1    2013              WBI    3158\n",
      "2    2013              WBI    3178\n",
      "3    2013              WBI    3184\n",
      "4    2013              WBI    3189\n",
      "MNCAATourneyCompactResults.csv 8\n",
      "   Season  DayNum  WTeamID  WScore  LTeamID  LScore WLoc  NumOT  \\\n",
      "0    1985     136     1151      67     1155      65    H      0   \n",
      "1    1985     136     1153      77     1245      61    H      0   \n",
      "2    1985     136     1201      79     1365      76    H      0   \n",
      "3    1985     136     1231      79     1139      57    H      0   \n",
      "4    1985     136     1249      78     1222      71    H      0   \n",
      "\n",
      "  SecondaryTourney  \n",
      "0              NIT  \n",
      "1              NIT  \n",
      "2              NIT  \n",
      "3              NIT  \n",
      "4              NIT  \n",
      "WNCAATourneyCompactResults.csv 9\n",
      "   Season  DayNum  WTeamID  WScore  LTeamID  LScore WLoc  NumOT  \\\n",
      "0    2013     135     3120      80     3412      57    H      0   \n",
      "1    2013     135     3140      69     3226      54    H      0   \n",
      "2    2013     135     3158      72     3297      70    A      0   \n",
      "3    2013     135     3183      60     3281      58    A      0   \n",
      "4    2013     135     3189      68     3184      61    H      0   \n",
      "\n",
      "  SecondaryTourney  \n",
      "0             WNIT  \n",
      "1             WNIT  \n",
      "2              WBI  \n",
      "3             WNIT  \n",
      "4              WBI  \n",
      "SampleSubmissionStage1.csv 10\n",
      "   Season  Slot StrongSeed WeakSeed\n",
      "0    1985  R1W1        W01      W16\n",
      "1    1985  R1W2        W02      W15\n",
      "2    1985  R1W3        W03      W14\n",
      "3    1985  R1W4        W04      W13\n",
      "4    1985  R1W5        W05      W12\n"
     ]
    }
   ],
   "source": [
    "for i in range(len(data_section_1_names)):\n",
    "    print(data_section_1_names[i] + \" \" +str(i))\n",
    "    print(dfs[i].head())"
   ],
   "metadata": {
    "collapsed": false,
    "ExecuteTime": {
     "end_time": "2025-03-05T10:54:03.901794Z",
     "start_time": "2025-03-05T10:54:03.811109Z"
    }
   },
   "id": "5b999453536988cc"
  },
  {
   "cell_type": "code",
   "execution_count": 43,
   "outputs": [
    {
     "data": {
      "text/plain": "       Season  TeamID ConfAbbrev\n0        1985    1102        wac\n1        1985    1103        ovc\n2        1985    1104        sec\n3        1985    1106       swac\n4        1985    1108       swac\n...       ...     ...        ...\n13383    2025    1476        nec\n13384    2025    1477  southland\n13385    2025    1478        nec\n13386    2025    1479        nec\n13387    2025    1480      a_sun\n\n[13388 rows x 3 columns]",
      "text/html": "<div>\n<style scoped>\n    .dataframe tbody tr th:only-of-type {\n        vertical-align: middle;\n    }\n\n    .dataframe tbody tr th {\n        vertical-align: top;\n    }\n\n    .dataframe thead th {\n        text-align: right;\n    }\n</style>\n<table border=\"1\" class=\"dataframe\">\n  <thead>\n    <tr style=\"text-align: right;\">\n      <th></th>\n      <th>Season</th>\n      <th>TeamID</th>\n      <th>ConfAbbrev</th>\n    </tr>\n  </thead>\n  <tbody>\n    <tr>\n      <th>0</th>\n      <td>1985</td>\n      <td>1102</td>\n      <td>wac</td>\n    </tr>\n    <tr>\n      <th>1</th>\n      <td>1985</td>\n      <td>1103</td>\n      <td>ovc</td>\n    </tr>\n    <tr>\n      <th>2</th>\n      <td>1985</td>\n      <td>1104</td>\n      <td>sec</td>\n    </tr>\n    <tr>\n      <th>3</th>\n      <td>1985</td>\n      <td>1106</td>\n      <td>swac</td>\n    </tr>\n    <tr>\n      <th>4</th>\n      <td>1985</td>\n      <td>1108</td>\n      <td>swac</td>\n    </tr>\n    <tr>\n      <th>...</th>\n      <td>...</td>\n      <td>...</td>\n      <td>...</td>\n    </tr>\n    <tr>\n      <th>13383</th>\n      <td>2025</td>\n      <td>1476</td>\n      <td>nec</td>\n    </tr>\n    <tr>\n      <th>13384</th>\n      <td>2025</td>\n      <td>1477</td>\n      <td>southland</td>\n    </tr>\n    <tr>\n      <th>13385</th>\n      <td>2025</td>\n      <td>1478</td>\n      <td>nec</td>\n    </tr>\n    <tr>\n      <th>13386</th>\n      <td>2025</td>\n      <td>1479</td>\n      <td>nec</td>\n    </tr>\n    <tr>\n      <th>13387</th>\n      <td>2025</td>\n      <td>1480</td>\n      <td>a_sun</td>\n    </tr>\n  </tbody>\n</table>\n<p>13388 rows × 3 columns</p>\n</div>"
     },
     "execution_count": 43,
     "metadata": {},
     "output_type": "execute_result"
    }
   ],
   "source": [
    "dfs[2]"
   ],
   "metadata": {
    "collapsed": false,
    "ExecuteTime": {
     "end_time": "2025-03-05T11:03:56.880943Z",
     "start_time": "2025-03-05T11:03:56.858795Z"
    }
   },
   "id": "ba99a71e38d2060e"
  },
  {
   "cell_type": "markdown",
   "source": [
    "### DATA SECTION 2 - Team Box Scores"
   ],
   "metadata": {
    "collapsed": false
   },
   "id": "a30fbbc7fcf601a0"
  },
  {
   "cell_type": "code",
   "execution_count": 36,
   "outputs": [],
   "source": [
    "data_section_2_names = [\"MRegularSeasonDetailedResults.csv\", \"WRegularSeasonDetailedResults.csv\",\n",
    "                        \"MNCAATourneyDetailedResults.csv\", \"WNCAATourneyDetailedResults.csv\"]"
   ],
   "metadata": {
    "collapsed": false,
    "ExecuteTime": {
     "end_time": "2025-03-05T10:53:56.608443Z",
     "start_time": "2025-03-05T10:53:56.604328Z"
    }
   },
   "id": "3a37045a1eecd595"
  },
  {
   "cell_type": "code",
   "execution_count": 37,
   "outputs": [
    {
     "name": "stdout",
     "output_type": "stream",
     "text": [
      "MRegularSeasonDetailedResults.csv\n",
      "   Season  DayNum  WTeamID  WScore  LTeamID  LScore WLoc  NumOT  WFGM  WFGA  \\\n",
      "0    2003      10     1104      68     1328      62    N      0    27    58   \n",
      "1    2003      10     1272      70     1393      63    N      0    26    62   \n",
      "2    2003      11     1266      73     1437      61    N      0    24    58   \n",
      "3    2003      11     1296      56     1457      50    N      0    18    38   \n",
      "4    2003      11     1400      77     1208      71    N      0    30    61   \n",
      "\n",
      "   ...  LFGA3  LFTM  LFTA  LOR  LDR  LAst  LTO  LStl  LBlk  LPF  \n",
      "0  ...     10    16    22   10   22     8   18     9     2   20  \n",
      "1  ...     24     9    20   20   25     7   12     8     6   16  \n",
      "2  ...     26    14    23   31   22     9   12     2     5   23  \n",
      "3  ...     22     8    15   17   20     9   19     4     3   23  \n",
      "4  ...     16    17    27   21   15    12   10     7     1   14  \n",
      "\n",
      "[5 rows x 34 columns]\n",
      "WRegularSeasonDetailedResults.csv\n",
      "   Season  DayNum  WTeamID  WScore  LTeamID  LScore WLoc  NumOT  WFGM  WFGA  \\\n",
      "0    2010      11     3103      63     3237      49    H      0    23    54   \n",
      "1    2010      11     3104      73     3399      68    N      0    26    62   \n",
      "2    2010      11     3110      71     3224      59    A      0    29    62   \n",
      "3    2010      11     3111      63     3267      58    A      0    27    52   \n",
      "4    2010      11     3119      74     3447      70    H      1    30    74   \n",
      "\n",
      "   ...  LFGA3  LFTM  LFTA  LOR  LDR  LAst  LTO  LStl  LBlk  LPF  \n",
      "0  ...     13     6    10   11   27    11   23     7     6   19  \n",
      "1  ...     21    14    27   14   26     7   20     4     2   27  \n",
      "2  ...     14    19    23   17   23     8   15     6     0   15  \n",
      "3  ...     26    16    25   22   22    15   11    14     5   14  \n",
      "4  ...     17    11    21   21   32    12   14     4     2   14  \n",
      "\n",
      "[5 rows x 34 columns]\n",
      "MNCAATourneyDetailedResults.csv\n",
      "   Season  DayNum  WTeamID  WScore  LTeamID  LScore WLoc  NumOT  WFGM  WFGA  \\\n",
      "0    2003     134     1421      92     1411      84    N      1    32    69   \n",
      "1    2003     136     1112      80     1436      51    N      0    31    66   \n",
      "2    2003     136     1113      84     1272      71    N      0    31    59   \n",
      "3    2003     136     1141      79     1166      73    N      0    29    53   \n",
      "4    2003     136     1143      76     1301      74    N      1    27    64   \n",
      "\n",
      "   ...  LFGA3  LFTM  LFTA  LOR  LDR  LAst  LTO  LStl  LBlk  LPF  \n",
      "0  ...     31    14    31   17   28    16   15     5     0   22  \n",
      "1  ...     16     7     7    8   26    12   17    10     3   15  \n",
      "2  ...     28    14    21   20   22    11   12     2     5   18  \n",
      "3  ...     17    12    17   14   17    20   21     6     6   21  \n",
      "4  ...     21    15    20   10   26    16   14     5     8   19  \n",
      "\n",
      "[5 rows x 34 columns]\n",
      "WNCAATourneyDetailedResults.csv\n",
      "   Season  DayNum  WTeamID  WScore  LTeamID  LScore WLoc  NumOT  WFGM  WFGA  \\\n",
      "0    2010     138     3124      69     3201      55    N      0    28    57   \n",
      "1    2010     138     3173      67     3395      66    N      0    23    59   \n",
      "2    2010     138     3181      72     3214      37    H      0    26    57   \n",
      "3    2010     138     3199      75     3256      61    H      0    25    63   \n",
      "4    2010     138     3207      62     3265      42    N      0    24    68   \n",
      "\n",
      "   ...  LFGA3  LFTM  LFTA  LOR  LDR  LAst  LTO  LStl  LBlk  LPF  \n",
      "0  ...     34     3     5   17   19    12   18     4     1   18  \n",
      "1  ...     27    14    15   18   26     8    8     8     6   22  \n",
      "2  ...     15     3     8   10   21     4   16     6     4   20  \n",
      "3  ...     20    17    22   16   21    13   16     5     4   24  \n",
      "4  ...     26    11    17   16   22     9   10     3     4   12  \n",
      "\n",
      "[5 rows x 34 columns]\n"
     ]
    }
   ],
   "source": [
    "dfs = [None for i in range(len(data_section_2_names))]\n",
    "for i, name in enumerate(data_section_2_names):\n",
    "    dfs[i] = pd.read_csv(folder + name)\n",
    "for i in range(len(data_section_2_names)):\n",
    "    print(data_section_2_names[i])\n",
    "    print(dfs[i].head())"
   ],
   "metadata": {
    "collapsed": false,
    "ExecuteTime": {
     "end_time": "2025-03-05T10:53:56.840759Z",
     "start_time": "2025-03-05T10:53:56.614294Z"
    }
   },
   "id": "b06b026ff93ef1da"
  },
  {
   "cell_type": "code",
   "execution_count": 37,
   "outputs": [],
   "source": [],
   "metadata": {
    "collapsed": false,
    "ExecuteTime": {
     "end_time": "2025-03-05T10:53:56.841102Z",
     "start_time": "2025-03-05T10:53:56.837094Z"
    }
   },
   "id": "f5ca3ce8e7680ae6"
  },
  {
   "cell_type": "markdown",
   "source": [
    "### DATA SECTION 3 - Geographic Data"
   ],
   "metadata": {
    "collapsed": false
   },
   "id": "c456f4b59df7bba"
  },
  {
   "cell_type": "code",
   "execution_count": 38,
   "outputs": [
    {
     "name": "stdout",
     "output_type": "stream",
     "text": [
      "Cities.csv\n",
      "   CityID         City State\n",
      "0    4001      Abilene    TX\n",
      "1    4002        Akron    OH\n",
      "2    4003       Albany    NY\n",
      "3    4004  Albuquerque    NM\n",
      "4    4005    Allentown    PA\n",
      "MGameCities.csv\n",
      "   Season  DayNum  WTeamID  LTeamID   CRType  CityID\n",
      "0    2010       7     1143     1293  Regular    4027\n",
      "1    2010       7     1314     1198  Regular    4061\n",
      "2    2010       7     1326     1108  Regular    4080\n",
      "3    2010       7     1393     1107  Regular    4340\n",
      "4    2010       9     1143     1178  Regular    4027\n",
      "WGameCities.csv\n",
      "   Season  DayNum  WTeamID  LTeamID   CRType  CityID\n",
      "0    2010      11     3103     3237  Regular    4002\n",
      "1    2010      11     3104     3399  Regular    4085\n",
      "2    2010      11     3110     3224  Regular    4363\n",
      "3    2010      11     3111     3267  Regular    4158\n",
      "4    2010      11     3119     3447  Regular    4367\n"
     ]
    }
   ],
   "source": [
    "data_section_3_names = [\"Cities.csv\", \"MGameCities.csv\", \"WGameCities.csv\"]\n",
    "dfs = [None for i in range(len(data_section_3_names))]\n",
    "for i, name in enumerate(data_section_3_names):\n",
    "    dfs[i] = pd.read_csv(folder + name)\n",
    "for i in range(len(data_section_3_names)):\n",
    "    print(data_section_3_names[i])\n",
    "    print(dfs[i].head())"
   ],
   "metadata": {
    "collapsed": false,
    "ExecuteTime": {
     "end_time": "2025-03-05T10:53:56.888035Z",
     "start_time": "2025-03-05T10:53:56.844229Z"
    }
   },
   "id": "81860f1dae195735"
  },
  {
   "cell_type": "markdown",
   "source": [
    "### DATA SECTION 4 - Public Rankings"
   ],
   "metadata": {
    "collapsed": false
   },
   "id": "26b2ba71000a4a02"
  },
  {
   "cell_type": "code",
   "execution_count": 39,
   "outputs": [
    {
     "name": "stdout",
     "output_type": "stream",
     "text": [
      "MMasseyOrdinals.csv\n",
      "   Season  RankingDayNum SystemName  TeamID  OrdinalRank\n",
      "0    2003             35        SEL    1102          159\n",
      "1    2003             35        SEL    1103          229\n",
      "2    2003             35        SEL    1104           12\n",
      "3    2003             35        SEL    1105          314\n",
      "4    2003             35        SEL    1106          260\n"
     ]
    }
   ],
   "source": [
    "data_section_4_names = [\"MMasseyOrdinals.csv\"]\n",
    "dfs = [None for i in range(len(data_section_4_names))]\n",
    "for i, name in enumerate(data_section_4_names):\n",
    "    dfs[i] = pd.read_csv(folder + name)\n",
    "for i in range(len(data_section_4_names)):\n",
    "    print(data_section_4_names[i])\n",
    "    print(dfs[i].head())"
   ],
   "metadata": {
    "collapsed": false,
    "ExecuteTime": {
     "end_time": "2025-03-05T10:53:57.918110Z",
     "start_time": "2025-03-05T10:53:56.886466Z"
    }
   },
   "id": "58cba16d869a8d03"
  },
  {
   "cell_type": "markdown",
   "source": [
    "### DATA SECTION 5 - Supplements"
   ],
   "metadata": {
    "collapsed": false
   },
   "id": "acfaed05c515de2a"
  },
  {
   "cell_type": "code",
   "execution_count": 40,
   "outputs": [
    {
     "name": "stdout",
     "output_type": "stream",
     "text": [
      "MTeamCoaches.csv\n",
      "   Season  TeamID  FirstDayNum  LastDayNum       CoachName\n",
      "0    1985    1102            0         154   reggie_minton\n",
      "1    1985    1103            0         154     bob_huggins\n",
      "2    1985    1104            0         154  wimp_sanderson\n",
      "3    1985    1106            0         154    james_oliver\n",
      "4    1985    1108            0         154   davey_whitney\n",
      "Conferences.csv\n",
      "  ConfAbbrev                   Description\n",
      "0      a_sun       Atlantic Sun Conference\n",
      "1      a_ten        Atlantic 10 Conference\n",
      "2        aac  American Athletic Conference\n",
      "3        acc     Atlantic Coast Conference\n",
      "4        aec       America East Conference\n",
      "MTeamConferences.csv\n",
      "   Season  TeamID ConfAbbrev\n",
      "0    1985    1102        wac\n",
      "1    1985    1103        ovc\n",
      "2    1985    1104        sec\n",
      "3    1985    1106       swac\n",
      "4    1985    1108       swac\n",
      "WTeamConferences.csv\n",
      "   Season  TeamID ConfAbbrev\n",
      "0    1998    3102        wac\n",
      "1    1998    3103        mac\n",
      "2    1998    3104        sec\n",
      "3    1998    3106       swac\n",
      "4    1998    3108       swac\n",
      "MConferenceTourneyGames.csv\n",
      "   Season ConfAbbrev  DayNum  WTeamID  LTeamID\n",
      "0    2001      a_sun     121     1194     1144\n",
      "1    2001      a_sun     121     1416     1240\n",
      "2    2001      a_sun     122     1209     1194\n",
      "3    2001      a_sun     122     1359     1239\n",
      "4    2001      a_sun     122     1391     1273\n",
      "WConferenceTourneyGames.csv\n",
      "   Season ConfAbbrev  DayNum  WTeamID  LTeamID\n",
      "0    2002      a_sun     129     3194     3144\n",
      "1    2002      a_sun     129     3209     3407\n",
      "2    2002      a_sun     129     3273     3125\n",
      "3    2002      a_sun     129     3391     3416\n",
      "4    2002      a_sun     130     3194     3273\n",
      "MSecondaryTourneyTeams.csv\n",
      "   Season SecondaryTourney  TeamID\n",
      "0    1985              NIT    1108\n",
      "1    1985              NIT    1133\n",
      "2    1985              NIT    1139\n",
      "3    1985              NIT    1145\n",
      "4    1985              NIT    1151\n",
      "WSecondaryTourneyTeams.csv\n",
      "   Season SecondaryTourney  TeamID\n",
      "0    2013              WBI    3125\n",
      "1    2013              WBI    3158\n",
      "2    2013              WBI    3178\n",
      "3    2013              WBI    3184\n",
      "4    2013              WBI    3189\n",
      "MSecondaryTourneyCompactResults.csv\n",
      "   Season  DayNum  WTeamID  WScore  LTeamID  LScore WLoc  NumOT  \\\n",
      "0    1985     136     1151      67     1155      65    H      0   \n",
      "1    1985     136     1153      77     1245      61    H      0   \n",
      "2    1985     136     1201      79     1365      76    H      0   \n",
      "3    1985     136     1231      79     1139      57    H      0   \n",
      "4    1985     136     1249      78     1222      71    H      0   \n",
      "\n",
      "  SecondaryTourney  \n",
      "0              NIT  \n",
      "1              NIT  \n",
      "2              NIT  \n",
      "3              NIT  \n",
      "4              NIT  \n",
      "WSecondaryTourneyCompactResults.csv\n",
      "   Season  DayNum  WTeamID  WScore  LTeamID  LScore WLoc  NumOT  \\\n",
      "0    2013     135     3120      80     3412      57    H      0   \n",
      "1    2013     135     3140      69     3226      54    H      0   \n",
      "2    2013     135     3158      72     3297      70    A      0   \n",
      "3    2013     135     3183      60     3281      58    A      0   \n",
      "4    2013     135     3189      68     3184      61    H      0   \n",
      "\n",
      "  SecondaryTourney  \n",
      "0             WNIT  \n",
      "1             WNIT  \n",
      "2              WBI  \n",
      "3             WNIT  \n",
      "4              WBI  \n",
      "MNCAATourneySlots.csv\n",
      "   Season  Slot StrongSeed WeakSeed\n",
      "0    1985  R1W1        W01      W16\n",
      "1    1985  R1W2        W02      W15\n",
      "2    1985  R1W3        W03      W14\n",
      "3    1985  R1W4        W04      W13\n",
      "4    1985  R1W5        W05      W12\n",
      "WNCAATourneySlots.csv\n",
      "   Season  Slot StrongSeed WeakSeed\n",
      "0    1998  R1W1        W01      W16\n",
      "1    1998  R1W2        W02      W15\n",
      "2    1998  R1W3        W03      W14\n",
      "3    1998  R1W4        W04      W13\n",
      "4    1998  R1W5        W05      W12\n",
      "MNCAATourneySeedRoundSlots.csv\n",
      "  Seed  GameRound GameSlot  EarlyDayNum  LateDayNum\n",
      "0  W01          1     R1W1          136         137\n",
      "1  W01          2     R2W1          138         139\n",
      "2  W01          3     R3W1          143         144\n",
      "3  W01          4     R4W1          145         146\n",
      "4  W01          5     R5WX          152         152\n"
     ]
    }
   ],
   "source": [
    "data_section_5_names = [\"MTeamCoaches.csv\", \"Conferences.csv\", \"MTeamConferences.csv\", \"WTeamConferences.csv\",\n",
    "                        \"MConferenceTourneyGames.csv\", \"WConferenceTourneyGames.csv\", \n",
    "                        \"MSecondaryTourneyTeams.csv\", \"WSecondaryTourneyTeams.csv\",\n",
    "                        \"MSecondaryTourneyCompactResults.csv\", \"WSecondaryTourneyCompactResults.csv\",\n",
    "                        #\"MTeamSpellings.csv\", \"WTeamSpellings.csv\", \n",
    "                        \"MNCAATourneySlots.csv\", \"WNCAATourneySlots.csv\",\n",
    "                        \"MNCAATourneySeedRoundSlots.csv\"]\n",
    "dfs = [None for i in range(len(data_section_5_names))]\n",
    "for i, name in enumerate(data_section_5_names):\n",
    "    dfs[i] = pd.read_csv(folder + name)\n",
    "for i in range(len(data_section_5_names)):\n",
    "    print(data_section_5_names[i])\n",
    "    print(dfs[i].head())"
   ],
   "metadata": {
    "collapsed": false,
    "ExecuteTime": {
     "end_time": "2025-03-05T10:53:57.975885Z",
     "start_time": "2025-03-05T10:53:57.941880Z"
    }
   },
   "id": "bbe86b952c004ead"
  },
  {
   "cell_type": "code",
   "execution_count": 40,
   "outputs": [],
   "source": [],
   "metadata": {
    "collapsed": false,
    "ExecuteTime": {
     "end_time": "2025-03-05T10:53:57.979356Z",
     "start_time": "2025-03-05T10:53:57.976016Z"
    }
   },
   "id": "1aaa83dc3869cc1e"
  }
 ],
 "metadata": {
  "kernelspec": {
   "display_name": "Python 3",
   "language": "python",
   "name": "python3"
  },
  "language_info": {
   "codemirror_mode": {
    "name": "ipython",
    "version": 2
   },
   "file_extension": ".py",
   "mimetype": "text/x-python",
   "name": "python",
   "nbconvert_exporter": "python",
   "pygments_lexer": "ipython2",
   "version": "2.7.6"
  }
 },
 "nbformat": 4,
 "nbformat_minor": 5
}
