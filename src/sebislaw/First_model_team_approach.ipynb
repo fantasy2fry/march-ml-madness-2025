{
 "cells": [
  {
   "cell_type": "markdown",
   "id": "2650e846-ed9f-4b0f-bcd0-56c268ac0172",
   "metadata": {},
   "source": [
    "# First model team performance approach| Sebislaw"
   ]
  },
  {
   "cell_type": "markdown",
   "id": "19e2cfbb-8619-4443-8397-6fcb846a9c7e",
   "metadata": {},
   "source": [
    "## Libraries"
   ]
  },
  {
   "cell_type": "code",
   "execution_count": null,
   "id": "3c8990b8-5a8a-47b7-907a-ab3607de82e0",
   "metadata": {},
   "outputs": [],
   "source": [
    "from os.path  import join\n",
    "import random\n",
    "import itertools\n",
    "import math\n",
    "\n",
    "import numpy as np\n",
    "import pandas as pd\n",
    "\n",
    "import matplotlib.pyplot as plt\n",
    "import seaborn as sns\n",
    "\n",
    "from sklearn.linear_model import LinearRegression, LassoCV\n",
    "from sklearn.model_selection import train_test_split, TimeSeriesSplit\n",
    "import statsmodels.api as sm\n",
    "from sklearn.preprocessing import StandardScaler\n",
    "from sklearn.metrics import brier_score_loss\n",
    "from sklearn.feature_selection import SelectFromModel\n",
    "from sklearn.ensemble import RandomForestClassifier\n",
    "from sklearn.calibration import CalibratedClassifierCV"
   ]
  },
  {
   "cell_type": "markdown",
   "id": "7eb6fe42-203a-4ffc-970f-4663ab0576fc",
   "metadata": {},
   "source": [
    "## Data"
   ]
  },
  {
   "cell_type": "code",
   "execution_count": null,
   "id": "8a1f69a5-3521-4251-8cb9-46edeef2a6cf",
   "metadata": {},
   "outputs": [],
   "source": [
    "data_path = '..\\\\..\\\\data'\n",
    "\n",
    "# The Basics ------------------------------------------------------------------------\n",
    "# Men\n",
    "MTeams = pd.read_csv(join(data_path, 'MTeams.csv'))\n",
    "MSeasons = pd.read_csv(join(data_path, 'MSeasons.csv'))\n",
    "MNCAATourneySeeds = pd.read_csv(join(data_path, 'MNCAATourneySeeds.csv'))\n",
    "MRegularSeasonCompactResults = pd.read_csv(join(data_path, 'MRegularSeasonCompactResults.csv'))\n",
    "MNCAATourneyCompactResults = pd.read_csv(join(data_path, 'MNCAATourneyCompactResults.csv'))\n",
    "# Women\n",
    "WTeams = pd.read_csv(join(data_path, 'WTeams.csv'))\n",
    "WSeasons = pd.read_csv(join(data_path, 'WSeasons.csv'))\n",
    "WNCAATourneySeeds = pd.read_csv(join(data_path, 'WNCAATourneySeeds.csv'))\n",
    "WRegularSeasonCompactResults = pd.read_csv(join(data_path, 'WRegularSeasonCompactResults.csv'))\n",
    "WNCAATourneyCompactResults = pd.read_csv(join(data_path, 'WNCAATourneyCompactResults.csv'))\n",
    "# Other\n",
    "SampleSubmissionStage1 = pd.read_csv(join(data_path, 'SampleSubmissionStage1.csv'))\n",
    "SampleSubmissionStage2 = pd.read_csv(join(data_path, 'SampleSubmissionStage2.csv'))\n",
    "SeedBenchmarkStage1 = pd.read_csv(join(data_path, 'SeedBenchmarkStage1.csv'))\n",
    "\n",
    "# Team Box Scores ------------------------------------------------------------------------\n",
    "# Men\n",
    "MRegularSeasonDetailedResults = pd.read_csv(join(data_path, 'MRegularSeasonDetailedResults.csv'))\n",
    "MNCAATourneyDetailedResults = pd.read_csv(join(data_path, 'MNCAATourneyDetailedResults.csv'))\n",
    "# Women\n",
    "WRegularSeasonDetailedResults = pd.read_csv(join(data_path, 'WRegularSeasonDetailedResults.csv'))\n",
    "WNCAATourneyDetailedResults = pd.read_csv(join(data_path, 'WNCAATourneyDetailedResults.csv'))\n",
    "\n",
    "# Geography ------------------------------------------------------------------------\n",
    "# All\n",
    "Cities = pd.read_csv(join(data_path, 'Cities.csv'))\n",
    "Conferences = pd.read_csv(join(data_path, 'Conferences.csv'))\n",
    "# Men\n",
    "MGameCities = pd.read_csv(join(data_path, 'MGameCities.csv'))\n",
    "# Women\n",
    "WGameCities = pd.read_csv(join(data_path, 'WGameCities.csv'))\n",
    "\n",
    "# Public Rankings ------------------------------------------------------------------------\n",
    "# Men\n",
    "MMasseyOrdinals = pd.read_csv(join(data_path, 'MMasseyOrdinals.csv')) # men only\n",
    "\n",
    "# Supplements ------------------------------------------------------------------------\n",
    "# Men\n",
    "MTeamCoaches = pd.read_csv(join(data_path, 'MTeamCoaches.csv')) # men only\n",
    "MTeamConferences = pd.read_csv(join(data_path, 'MTeamConferences.csv'))\n",
    "MConferenceTourneyGames = pd.read_csv(join(data_path, 'MConferenceTourneyGames.csv'))\n",
    "MSecondaryTourneyTeams = pd.read_csv(join(data_path, 'MSecondaryTourneyTeams.csv'))\n",
    "MSecondaryTourneyCompactResults = pd.read_csv(join(data_path, 'MSecondaryTourneyCompactResults.csv'))\n",
    "MTeamSpellings = pd.read_csv(join(data_path, \"MTeamSpellings.csv\"), encoding='cp1252')\n",
    "MNCAATourneySlots = pd.read_csv(join(data_path, 'MNCAATourneySlots.csv'))\n",
    "MNCAATourneySeedRoundSlots = pd.read_csv(join(data_path, 'MNCAATourneySeedRoundSlots.csv')) # men only\n",
    "# Women\n",
    "WTeamConferences = pd.read_csv(join(data_path, 'WTeamConferences.csv'))\n",
    "WConferenceTourneyGames = pd.read_csv(join(data_path, 'WConferenceTourneyGames.csv'))\n",
    "WSecondaryTourneyTeams = pd.read_csv(join(data_path, 'WSecondaryTourneyTeams.csv'))\n",
    "WSecondaryTourneyCompactResults = pd.read_csv(join(data_path, 'WSecondaryTourneyCompactResults.csv'))\n",
    "WTeamSpellings = pd.read_csv(join(data_path, 'WTeamSpellings.csv'), encoding='cp1252')\n",
    "WNCAATourneySlots = pd.read_csv(join(data_path, 'WNCAATourneySlots.csv'))"
   ]
  }
 ],
 "metadata": {
  "kernelspec": {
   "display_name": "Python 3 (ipykernel)",
   "language": "python",
   "name": "python3"
  },
  "language_info": {
   "codemirror_mode": {
    "name": "ipython",
    "version": 3
   },
   "file_extension": ".py",
   "mimetype": "text/x-python",
   "name": "python",
   "nbconvert_exporter": "python",
   "pygments_lexer": "ipython3",
   "version": "3.11.5"
  }
 },
 "nbformat": 4,
 "nbformat_minor": 5
}
